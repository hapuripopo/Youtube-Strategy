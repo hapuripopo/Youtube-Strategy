{
  "nbformat": 4,
  "nbformat_minor": 0,
  "metadata": {
    "colab": {
      "provenance": [],
      "collapsed_sections": [
        "-w0H-d4h8D5S"
      ],
      "authorship_tag": "ABX9TyP9UFkYJ/b/a3nX9mj7FEIs",
      "include_colab_link": true
    },
    "kernelspec": {
      "name": "python3",
      "display_name": "Python 3"
    },
    "language_info": {
      "name": "python"
    }
  },
  "cells": [
    {
      "cell_type": "markdown",
      "metadata": {
        "id": "view-in-github",
        "colab_type": "text"
      },
      "source": [
        "<a href=\"https://colab.research.google.com/github/hapuripopo/Youtube-Strategy/blob/main/LastTask.ipynb\" target=\"_parent\"><img src=\"https://colab.research.google.com/assets/colab-badge.svg\" alt=\"Open In Colab\"/></a>"
      ]
    },
    {
      "cell_type": "markdown",
      "source": [
        "# 데이터의 기초 정보 살펴보기\n",
        "### `videos-stats.csv` 데이터셋의 기본 정보"
      ],
      "metadata": {
        "id": "xOr6JmloA-YN"
      }
    },
    {
      "cell_type": "markdown",
      "source": [
        "* `Title` : 영상 제목\n",
        "* `Video ID` : 영상 ID\n",
        "* `Published At` : 영상 공개 날짜\n",
        "* `Keyword` : 영상과 연관된 핵심 단어\n",
        "* `Likes` : 영상 좋아요 수, -1일 경우 좋아요 비공개\n",
        "* `Comments` : 댓글수, -1일 경우 댓글기능 사용불가\n",
        "* `Views` : 조회수"
      ],
      "metadata": {
        "id": "Oea5jECTBT0H"
      }
    },
    {
      "cell_type": "code",
      "execution_count": 47,
      "metadata": {
        "colab": {
          "base_uri": "https://localhost:8080/"
        },
        "id": "TANd88HR-gTQ",
        "outputId": "c14b01d3-ca6c-48a5-f90e-59388a0ecb08"
      },
      "outputs": [
        {
          "output_type": "stream",
          "name": "stdout",
          "text": [
            "<class 'pandas.core.frame.DataFrame'>\n",
            "Int64Index: 1881 entries, 0 to 1880\n",
            "Data columns (total 7 columns):\n",
            " #   Column        Non-Null Count  Dtype  \n",
            "---  ------        --------------  -----  \n",
            " 0   Title         1881 non-null   object \n",
            " 1   Video ID      1881 non-null   object \n",
            " 2   Published At  1881 non-null   object \n",
            " 3   Keyword       1881 non-null   object \n",
            " 4   Likes         1879 non-null   float64\n",
            " 5   Comments      1879 non-null   float64\n",
            " 6   Views         1879 non-null   float64\n",
            "dtypes: float64(3), object(4)\n",
            "memory usage: 117.6+ KB\n",
            "None\n"
          ]
        }
      ],
      "source": [
        "import pandas as pd\n",
        "import numpy as np\n",
        "import matplotlib.pyplot as plt\n",
        "\n",
        "# 지수표현 -> 실수표현\n",
        "pd.options.display.float_format = '{:,.0f}'.format\n",
        "\n",
        "file_path = '../content/videos-stats.csv'\n",
        "videos = pd.read_csv(file_path, index_col=0)\n",
        "\n",
        "print(videos.info())\n"
      ]
    },
    {
      "cell_type": "markdown",
      "source": [
        "* Non-Null Count가  index수와 같지 않은 컬럼이 존재 -> NaN 데이터 존재"
      ],
      "metadata": {
        "id": "JlWvTmdgUjm6"
      }
    },
    {
      "cell_type": "code",
      "source": [
        "videos.head()"
      ],
      "metadata": {
        "colab": {
          "base_uri": "https://localhost:8080/",
          "height": 458
        },
        "id": "ekOAZpCZBSVO",
        "outputId": "8724ea23-fc92-44f9-ba9c-e38059f55d15"
      },
      "execution_count": 48,
      "outputs": [
        {
          "output_type": "execute_result",
          "data": {
            "text/plain": [
              "                                               Title     Video ID  \\\n",
              "0  Apple Pay Is Killing the Physical Wallet After...  wAZZ-UWGVHI   \n",
              "1                    The most EXPENSIVE thing I own.  b3x28s61q3c   \n",
              "2                 My New House Gaming Setup is SICK!  4mgePWWCAmA   \n",
              "3  Petrol Vs Liquid Nitrogen | Freezing Experimen...  kXiYSI7H2b0   \n",
              "4                     Best Back to School Tech 2022!  ErMwWXQxHp0   \n",
              "\n",
              "  Published At Keyword  Likes  Comments     Views  \n",
              "0   2022-08-23    tech  3,407       672   135,612  \n",
              "1   2022-08-24    tech 76,779     4,306 1,758,063  \n",
              "2   2022-08-23    tech 63,825     3,338 1,564,007  \n",
              "3   2022-08-23    tech 71,566     1,426   922,918  \n",
              "4   2022-08-08    tech 96,513     5,155 1,855,644  "
            ],
            "text/html": [
              "\n",
              "  <div id=\"df-3f60296c-a0fb-4e1a-9fed-d4c65cfc6f81\">\n",
              "    <div class=\"colab-df-container\">\n",
              "      <div>\n",
              "<style scoped>\n",
              "    .dataframe tbody tr th:only-of-type {\n",
              "        vertical-align: middle;\n",
              "    }\n",
              "\n",
              "    .dataframe tbody tr th {\n",
              "        vertical-align: top;\n",
              "    }\n",
              "\n",
              "    .dataframe thead th {\n",
              "        text-align: right;\n",
              "    }\n",
              "</style>\n",
              "<table border=\"1\" class=\"dataframe\">\n",
              "  <thead>\n",
              "    <tr style=\"text-align: right;\">\n",
              "      <th></th>\n",
              "      <th>Title</th>\n",
              "      <th>Video ID</th>\n",
              "      <th>Published At</th>\n",
              "      <th>Keyword</th>\n",
              "      <th>Likes</th>\n",
              "      <th>Comments</th>\n",
              "      <th>Views</th>\n",
              "    </tr>\n",
              "  </thead>\n",
              "  <tbody>\n",
              "    <tr>\n",
              "      <th>0</th>\n",
              "      <td>Apple Pay Is Killing the Physical Wallet After...</td>\n",
              "      <td>wAZZ-UWGVHI</td>\n",
              "      <td>2022-08-23</td>\n",
              "      <td>tech</td>\n",
              "      <td>3,407</td>\n",
              "      <td>672</td>\n",
              "      <td>135,612</td>\n",
              "    </tr>\n",
              "    <tr>\n",
              "      <th>1</th>\n",
              "      <td>The most EXPENSIVE thing I own.</td>\n",
              "      <td>b3x28s61q3c</td>\n",
              "      <td>2022-08-24</td>\n",
              "      <td>tech</td>\n",
              "      <td>76,779</td>\n",
              "      <td>4,306</td>\n",
              "      <td>1,758,063</td>\n",
              "    </tr>\n",
              "    <tr>\n",
              "      <th>2</th>\n",
              "      <td>My New House Gaming Setup is SICK!</td>\n",
              "      <td>4mgePWWCAmA</td>\n",
              "      <td>2022-08-23</td>\n",
              "      <td>tech</td>\n",
              "      <td>63,825</td>\n",
              "      <td>3,338</td>\n",
              "      <td>1,564,007</td>\n",
              "    </tr>\n",
              "    <tr>\n",
              "      <th>3</th>\n",
              "      <td>Petrol Vs Liquid Nitrogen | Freezing Experimen...</td>\n",
              "      <td>kXiYSI7H2b0</td>\n",
              "      <td>2022-08-23</td>\n",
              "      <td>tech</td>\n",
              "      <td>71,566</td>\n",
              "      <td>1,426</td>\n",
              "      <td>922,918</td>\n",
              "    </tr>\n",
              "    <tr>\n",
              "      <th>4</th>\n",
              "      <td>Best Back to School Tech 2022!</td>\n",
              "      <td>ErMwWXQxHp0</td>\n",
              "      <td>2022-08-08</td>\n",
              "      <td>tech</td>\n",
              "      <td>96,513</td>\n",
              "      <td>5,155</td>\n",
              "      <td>1,855,644</td>\n",
              "    </tr>\n",
              "  </tbody>\n",
              "</table>\n",
              "</div>\n",
              "      <button class=\"colab-df-convert\" onclick=\"convertToInteractive('df-3f60296c-a0fb-4e1a-9fed-d4c65cfc6f81')\"\n",
              "              title=\"Convert this dataframe to an interactive table.\"\n",
              "              style=\"display:none;\">\n",
              "        \n",
              "  <svg xmlns=\"http://www.w3.org/2000/svg\" height=\"24px\"viewBox=\"0 0 24 24\"\n",
              "       width=\"24px\">\n",
              "    <path d=\"M0 0h24v24H0V0z\" fill=\"none\"/>\n",
              "    <path d=\"M18.56 5.44l.94 2.06.94-2.06 2.06-.94-2.06-.94-.94-2.06-.94 2.06-2.06.94zm-11 1L8.5 8.5l.94-2.06 2.06-.94-2.06-.94L8.5 2.5l-.94 2.06-2.06.94zm10 10l.94 2.06.94-2.06 2.06-.94-2.06-.94-.94-2.06-.94 2.06-2.06.94z\"/><path d=\"M17.41 7.96l-1.37-1.37c-.4-.4-.92-.59-1.43-.59-.52 0-1.04.2-1.43.59L10.3 9.45l-7.72 7.72c-.78.78-.78 2.05 0 2.83L4 21.41c.39.39.9.59 1.41.59.51 0 1.02-.2 1.41-.59l7.78-7.78 2.81-2.81c.8-.78.8-2.07 0-2.86zM5.41 20L4 18.59l7.72-7.72 1.47 1.35L5.41 20z\"/>\n",
              "  </svg>\n",
              "      </button>\n",
              "      \n",
              "  <style>\n",
              "    .colab-df-container {\n",
              "      display:flex;\n",
              "      flex-wrap:wrap;\n",
              "      gap: 12px;\n",
              "    }\n",
              "\n",
              "    .colab-df-convert {\n",
              "      background-color: #E8F0FE;\n",
              "      border: none;\n",
              "      border-radius: 50%;\n",
              "      cursor: pointer;\n",
              "      display: none;\n",
              "      fill: #1967D2;\n",
              "      height: 32px;\n",
              "      padding: 0 0 0 0;\n",
              "      width: 32px;\n",
              "    }\n",
              "\n",
              "    .colab-df-convert:hover {\n",
              "      background-color: #E2EBFA;\n",
              "      box-shadow: 0px 1px 2px rgba(60, 64, 67, 0.3), 0px 1px 3px 1px rgba(60, 64, 67, 0.15);\n",
              "      fill: #174EA6;\n",
              "    }\n",
              "\n",
              "    [theme=dark] .colab-df-convert {\n",
              "      background-color: #3B4455;\n",
              "      fill: #D2E3FC;\n",
              "    }\n",
              "\n",
              "    [theme=dark] .colab-df-convert:hover {\n",
              "      background-color: #434B5C;\n",
              "      box-shadow: 0px 1px 3px 1px rgba(0, 0, 0, 0.15);\n",
              "      filter: drop-shadow(0px 1px 2px rgba(0, 0, 0, 0.3));\n",
              "      fill: #FFFFFF;\n",
              "    }\n",
              "  </style>\n",
              "\n",
              "      <script>\n",
              "        const buttonEl =\n",
              "          document.querySelector('#df-3f60296c-a0fb-4e1a-9fed-d4c65cfc6f81 button.colab-df-convert');\n",
              "        buttonEl.style.display =\n",
              "          google.colab.kernel.accessAllowed ? 'block' : 'none';\n",
              "\n",
              "        async function convertToInteractive(key) {\n",
              "          const element = document.querySelector('#df-3f60296c-a0fb-4e1a-9fed-d4c65cfc6f81');\n",
              "          const dataTable =\n",
              "            await google.colab.kernel.invokeFunction('convertToInteractive',\n",
              "                                                     [key], {});\n",
              "          if (!dataTable) return;\n",
              "\n",
              "          const docLinkHtml = 'Like what you see? Visit the ' +\n",
              "            '<a target=\"_blank\" href=https://colab.research.google.com/notebooks/data_table.ipynb>data table notebook</a>'\n",
              "            + ' to learn more about interactive tables.';\n",
              "          element.innerHTML = '';\n",
              "          dataTable['output_type'] = 'display_data';\n",
              "          await google.colab.output.renderOutput(dataTable, element);\n",
              "          const docLink = document.createElement('div');\n",
              "          docLink.innerHTML = docLinkHtml;\n",
              "          element.appendChild(docLink);\n",
              "        }\n",
              "      </script>\n",
              "    </div>\n",
              "  </div>\n",
              "  "
            ]
          },
          "metadata": {},
          "execution_count": 48
        }
      ]
    },
    {
      "cell_type": "code",
      "source": [
        "videos.describe()"
      ],
      "metadata": {
        "colab": {
          "base_uri": "https://localhost:8080/",
          "height": 300
        },
        "id": "gJs-WD3VBWCM",
        "outputId": "3999559d-3dbb-4f62-d31e-395cf5c905da"
      },
      "execution_count": 49,
      "outputs": [
        {
          "output_type": "execute_result",
          "data": {
            "text/plain": [
              "           Likes  Comments         Views\n",
              "count      1,879     1,879         1,879\n",
              "mean     170,061     7,863    11,612,916\n",
              "std      796,229    37,880   108,444,994\n",
              "min           -1        -1            25\n",
              "25%        2,672       199        84,515\n",
              "50%       14,787       814       591,721\n",
              "75%       60,906     3,378     2,804,978\n",
              "max   16,445,558   732,818 4,034,122,271"
            ],
            "text/html": [
              "\n",
              "  <div id=\"df-e4483512-20f5-4c50-85d6-5097116ef5a8\">\n",
              "    <div class=\"colab-df-container\">\n",
              "      <div>\n",
              "<style scoped>\n",
              "    .dataframe tbody tr th:only-of-type {\n",
              "        vertical-align: middle;\n",
              "    }\n",
              "\n",
              "    .dataframe tbody tr th {\n",
              "        vertical-align: top;\n",
              "    }\n",
              "\n",
              "    .dataframe thead th {\n",
              "        text-align: right;\n",
              "    }\n",
              "</style>\n",
              "<table border=\"1\" class=\"dataframe\">\n",
              "  <thead>\n",
              "    <tr style=\"text-align: right;\">\n",
              "      <th></th>\n",
              "      <th>Likes</th>\n",
              "      <th>Comments</th>\n",
              "      <th>Views</th>\n",
              "    </tr>\n",
              "  </thead>\n",
              "  <tbody>\n",
              "    <tr>\n",
              "      <th>count</th>\n",
              "      <td>1,879</td>\n",
              "      <td>1,879</td>\n",
              "      <td>1,879</td>\n",
              "    </tr>\n",
              "    <tr>\n",
              "      <th>mean</th>\n",
              "      <td>170,061</td>\n",
              "      <td>7,863</td>\n",
              "      <td>11,612,916</td>\n",
              "    </tr>\n",
              "    <tr>\n",
              "      <th>std</th>\n",
              "      <td>796,229</td>\n",
              "      <td>37,880</td>\n",
              "      <td>108,444,994</td>\n",
              "    </tr>\n",
              "    <tr>\n",
              "      <th>min</th>\n",
              "      <td>-1</td>\n",
              "      <td>-1</td>\n",
              "      <td>25</td>\n",
              "    </tr>\n",
              "    <tr>\n",
              "      <th>25%</th>\n",
              "      <td>2,672</td>\n",
              "      <td>199</td>\n",
              "      <td>84,515</td>\n",
              "    </tr>\n",
              "    <tr>\n",
              "      <th>50%</th>\n",
              "      <td>14,787</td>\n",
              "      <td>814</td>\n",
              "      <td>591,721</td>\n",
              "    </tr>\n",
              "    <tr>\n",
              "      <th>75%</th>\n",
              "      <td>60,906</td>\n",
              "      <td>3,378</td>\n",
              "      <td>2,804,978</td>\n",
              "    </tr>\n",
              "    <tr>\n",
              "      <th>max</th>\n",
              "      <td>16,445,558</td>\n",
              "      <td>732,818</td>\n",
              "      <td>4,034,122,271</td>\n",
              "    </tr>\n",
              "  </tbody>\n",
              "</table>\n",
              "</div>\n",
              "      <button class=\"colab-df-convert\" onclick=\"convertToInteractive('df-e4483512-20f5-4c50-85d6-5097116ef5a8')\"\n",
              "              title=\"Convert this dataframe to an interactive table.\"\n",
              "              style=\"display:none;\">\n",
              "        \n",
              "  <svg xmlns=\"http://www.w3.org/2000/svg\" height=\"24px\"viewBox=\"0 0 24 24\"\n",
              "       width=\"24px\">\n",
              "    <path d=\"M0 0h24v24H0V0z\" fill=\"none\"/>\n",
              "    <path d=\"M18.56 5.44l.94 2.06.94-2.06 2.06-.94-2.06-.94-.94-2.06-.94 2.06-2.06.94zm-11 1L8.5 8.5l.94-2.06 2.06-.94-2.06-.94L8.5 2.5l-.94 2.06-2.06.94zm10 10l.94 2.06.94-2.06 2.06-.94-2.06-.94-.94-2.06-.94 2.06-2.06.94z\"/><path d=\"M17.41 7.96l-1.37-1.37c-.4-.4-.92-.59-1.43-.59-.52 0-1.04.2-1.43.59L10.3 9.45l-7.72 7.72c-.78.78-.78 2.05 0 2.83L4 21.41c.39.39.9.59 1.41.59.51 0 1.02-.2 1.41-.59l7.78-7.78 2.81-2.81c.8-.78.8-2.07 0-2.86zM5.41 20L4 18.59l7.72-7.72 1.47 1.35L5.41 20z\"/>\n",
              "  </svg>\n",
              "      </button>\n",
              "      \n",
              "  <style>\n",
              "    .colab-df-container {\n",
              "      display:flex;\n",
              "      flex-wrap:wrap;\n",
              "      gap: 12px;\n",
              "    }\n",
              "\n",
              "    .colab-df-convert {\n",
              "      background-color: #E8F0FE;\n",
              "      border: none;\n",
              "      border-radius: 50%;\n",
              "      cursor: pointer;\n",
              "      display: none;\n",
              "      fill: #1967D2;\n",
              "      height: 32px;\n",
              "      padding: 0 0 0 0;\n",
              "      width: 32px;\n",
              "    }\n",
              "\n",
              "    .colab-df-convert:hover {\n",
              "      background-color: #E2EBFA;\n",
              "      box-shadow: 0px 1px 2px rgba(60, 64, 67, 0.3), 0px 1px 3px 1px rgba(60, 64, 67, 0.15);\n",
              "      fill: #174EA6;\n",
              "    }\n",
              "\n",
              "    [theme=dark] .colab-df-convert {\n",
              "      background-color: #3B4455;\n",
              "      fill: #D2E3FC;\n",
              "    }\n",
              "\n",
              "    [theme=dark] .colab-df-convert:hover {\n",
              "      background-color: #434B5C;\n",
              "      box-shadow: 0px 1px 3px 1px rgba(0, 0, 0, 0.15);\n",
              "      filter: drop-shadow(0px 1px 2px rgba(0, 0, 0, 0.3));\n",
              "      fill: #FFFFFF;\n",
              "    }\n",
              "  </style>\n",
              "\n",
              "      <script>\n",
              "        const buttonEl =\n",
              "          document.querySelector('#df-e4483512-20f5-4c50-85d6-5097116ef5a8 button.colab-df-convert');\n",
              "        buttonEl.style.display =\n",
              "          google.colab.kernel.accessAllowed ? 'block' : 'none';\n",
              "\n",
              "        async function convertToInteractive(key) {\n",
              "          const element = document.querySelector('#df-e4483512-20f5-4c50-85d6-5097116ef5a8');\n",
              "          const dataTable =\n",
              "            await google.colab.kernel.invokeFunction('convertToInteractive',\n",
              "                                                     [key], {});\n",
              "          if (!dataTable) return;\n",
              "\n",
              "          const docLinkHtml = 'Like what you see? Visit the ' +\n",
              "            '<a target=\"_blank\" href=https://colab.research.google.com/notebooks/data_table.ipynb>data table notebook</a>'\n",
              "            + ' to learn more about interactive tables.';\n",
              "          element.innerHTML = '';\n",
              "          dataTable['output_type'] = 'display_data';\n",
              "          await google.colab.output.renderOutput(dataTable, element);\n",
              "          const docLink = document.createElement('div');\n",
              "          docLink.innerHTML = docLinkHtml;\n",
              "          element.appendChild(docLink);\n",
              "        }\n",
              "      </script>\n",
              "    </div>\n",
              "  </div>\n",
              "  "
            ]
          },
          "metadata": {},
          "execution_count": 49
        }
      ]
    },
    {
      "cell_type": "markdown",
      "source": [
        "### 데이터 전처리\n",
        "[NaN 처리하기]"
      ],
      "metadata": {
        "id": "n3exOXq9O73S"
      }
    },
    {
      "cell_type": "code",
      "source": [
        "# NaN 셀 확인하기\n",
        "print('----------NaN----------')\n",
        "print(videos.isnull().sum(axis=0))\n",
        "\n",
        "videos.dropna(how='any', inplace=True)\n",
        "\n",
        "# NaN 처리 확인하기\n",
        "print()\n",
        "print('------NaN제거 후------')\n",
        "print(videos.isnull().sum(axis=0))\n"
      ],
      "metadata": {
        "colab": {
          "base_uri": "https://localhost:8080/"
        },
        "id": "YKDmONpaQVuy",
        "outputId": "d076892f-8d0a-4578-bf00-7ba4cbdc4443"
      },
      "execution_count": 50,
      "outputs": [
        {
          "output_type": "stream",
          "name": "stdout",
          "text": [
            "----------NaN----------\n",
            "Title           0\n",
            "Video ID        0\n",
            "Published At    0\n",
            "Keyword         0\n",
            "Likes           2\n",
            "Comments        2\n",
            "Views           2\n",
            "dtype: int64\n",
            "\n",
            "------NaN제거 후------\n",
            "Title           0\n",
            "Video ID        0\n",
            "Published At    0\n",
            "Keyword         0\n",
            "Likes           0\n",
            "Comments        0\n",
            "Views           0\n",
            "dtype: int64\n"
          ]
        }
      ]
    },
    {
      "cell_type": "markdown",
      "source": [
        "[중복 데이터 처리하기]\n",
        "* `[Video ID]`가 동일 할 경우, 같은 영상이므로 제거 합니다."
      ],
      "metadata": {
        "id": "rxA3neFXPD9J"
      }
    },
    {
      "cell_type": "code",
      "source": [
        "# 중복 데이터 개수 확인\n",
        "print('중복 데이터 개수: ', videos['Video ID'].duplicated().sum())\n",
        "\n",
        "# 중복 데이터 제거\n",
        "videos.drop_duplicates(subset=['Video ID'], inplace=True)\n",
        "\n",
        "# 중복 데이터 처리 확인하기\n",
        "print('제거 후 중복 데이터 개수:', videos['Video ID'].duplicated().sum())\n"
      ],
      "metadata": {
        "colab": {
          "base_uri": "https://localhost:8080/"
        },
        "id": "zt0B_45UOCuE",
        "outputId": "fe478765-4260-4438-bd86-1fda129397c2"
      },
      "execution_count": 51,
      "outputs": [
        {
          "output_type": "stream",
          "name": "stdout",
          "text": [
            "중복 데이터 개수:  12\n",
            "제거 후 중복 데이커 개수: 0\n"
          ]
        }
      ]
    },
    {
      "cell_type": "markdown",
      "source": [
        "[특수 값을 가지는 데이터 처리하기]\n",
        "* `[Likes]`는 비공개일 경우 -1 값을 가지며, 좋아요 수를 알 수 없습니다.\n",
        "* `[Comments]`는 사용불가일 경우 -1 값을 가지며, 댓글의 영향력을 예측할 수 없습니다.\n",
        "* 따라서 두 조건 중 하나라도 해당될 때 데이터 전처리가 필요합니다."
      ],
      "metadata": {
        "id": "O-R_KzNFZ0XE"
      }
    },
    {
      "cell_type": "code",
      "source": [
        "# 두 조건 중 하나라도 만족하는 데이터 찾기\n",
        "mask = (videos['Likes'] < 0)|(videos['Comments']<0)\n",
        "print('만족하는 데이터 개수: ', videos.loc[mask,:].shape[0])\n",
        "print(videos.loc[mask, :])\n"
      ],
      "metadata": {
        "colab": {
          "base_uri": "https://localhost:8080/"
        },
        "id": "eNJTsHHFagMK",
        "outputId": "97f9eb21-83e3-42d9-d47a-d452a1eb448c"
      },
      "execution_count": 55,
      "outputs": [
        {
          "output_type": "stream",
          "name": "stdout",
          "text": [
            "만족하는 데이터 개수:  8\n",
            "                                                  Title     Video ID  \\\n",
            "243   How To Build A Business That Works | Brian Tra...  MN7yfV4UuCI   \n",
            "266   ตลาดถุงมือยางทรุด! ฉุดราคาร่วงลงทุนหด | BUSINE...  cG37cEi1nPc   \n",
            "583                         DON&#39;T GOOGLE THIS STUFF  NAV2laKrDv4   \n",
            "1016  15 Kilo Zayıf Gösteren Kız Makyajı |Arkadaşlar...  -NcdEl405KY   \n",
            "1677  FULL Marvel Studios Panel from Hall H | San Di...  rf-NqJQJHBU   \n",
            "1701  SURVIVOR 🦀🦂 Best Action Movies 2022 🦀🦂 Latest ...  __7MkaWFObQ   \n",
            "1709  BEST Auditions Of Songs From Movies | Amazing ...  ZcBBGC8_mfU   \n",
            "1710  The Magnificent Seven - Full Movie In English ...  1MZY_0tYmrs   \n",
            "\n",
            "     Published At   Keyword  Likes  Comments     Views  \n",
            "243    2021-02-09  business     -1     1,144   676,300  \n",
            "266    2022-08-23  business     -1        13    12,332  \n",
            "583    2017-08-28    google     -1    18,676 6,515,548  \n",
            "1016   2022-08-23   mukbang     -1       335    27,451  \n",
            "1677   2022-07-24    marvel     -1       821   553,892  \n",
            "1701   2022-08-20    movies    105        -1    28,219  \n",
            "1709   2022-07-25    movies 20,138        -1 5,351,960  \n",
            "1710   2021-12-29    movies     -1       180 2,389,222  \n"
          ]
        }
      ]
    },
    {
      "cell_type": "markdown",
      "source": [
        "* 두 조건의 데이터의 개수가 많지 않아서 **삭제** 하기로 결정했습니다."
      ],
      "metadata": {
        "id": "HdHWZeeUc7Gl"
      }
    },
    {
      "cell_type": "code",
      "source": [
        "videos.drop(videos.loc[mask,:].index, axis=0, inplace=True)\n",
        "print('제거 후 만족하는 데이터 개수: ', videos.loc[mask,:].shape[0])"
      ],
      "metadata": {
        "colab": {
          "base_uri": "https://localhost:8080/"
        },
        "id": "bgsKQGjxdFOp",
        "outputId": "f098d9f4-570f-41a0-f888-a2abeeb8ca77"
      },
      "execution_count": 57,
      "outputs": [
        {
          "output_type": "stream",
          "name": "stdout",
          "text": [
            "제거 후 만족하는 데이터 개수:  0\n"
          ]
        }
      ]
    },
    {
      "cell_type": "markdown",
      "source": [
        "[데이터 전처리 확인]"
      ],
      "metadata": {
        "id": "nidj2DjkYKkC"
      }
    },
    {
      "cell_type": "code",
      "source": [
        "# 인덱스 초기화\n",
        "videos.reset_index(inplace=True)\n",
        "\n",
        "# 전처리 후 데이터셋 정보 확인\n",
        "print(videos.info())\n",
        "print()\n",
        "videos.describe()\n"
      ],
      "metadata": {
        "colab": {
          "base_uri": "https://localhost:8080/",
          "height": 609
        },
        "id": "-f2goU8VT5hx",
        "outputId": "e46373de-b85e-46fb-9398-a08db4cf3334"
      },
      "execution_count": 58,
      "outputs": [
        {
          "output_type": "stream",
          "name": "stdout",
          "text": [
            "<class 'pandas.core.frame.DataFrame'>\n",
            "RangeIndex: 1859 entries, 0 to 1858\n",
            "Data columns (total 8 columns):\n",
            " #   Column        Non-Null Count  Dtype  \n",
            "---  ------        --------------  -----  \n",
            " 0   index         1859 non-null   int64  \n",
            " 1   Title         1859 non-null   object \n",
            " 2   Video ID      1859 non-null   object \n",
            " 3   Published At  1859 non-null   object \n",
            " 4   Keyword       1859 non-null   object \n",
            " 5   Likes         1859 non-null   float64\n",
            " 6   Comments      1859 non-null   float64\n",
            " 7   Views         1859 non-null   float64\n",
            "dtypes: float64(3), int64(1), object(4)\n",
            "memory usage: 116.3+ KB\n",
            "None\n",
            "\n"
          ]
        },
        {
          "output_type": "execute_result",
          "data": {
            "text/plain": [
              "       index      Likes  Comments         Views\n",
              "count  1,859      1,859     1,859         1,859\n",
              "mean     937    169,846     7,849    11,695,674\n",
              "std      542    797,639    37,997   109,021,050\n",
              "min        0          0         0            25\n",
              "25%      468      2,710       202        85,244\n",
              "50%      936     14,899       820       589,907\n",
              "75%    1,406     61,011     3,395     2,804,978\n",
              "max    1,878 16,445,558   732,818 4,034,122,271"
            ],
            "text/html": [
              "\n",
              "  <div id=\"df-88aa5e68-4111-4b09-8dff-2d9917302784\">\n",
              "    <div class=\"colab-df-container\">\n",
              "      <div>\n",
              "<style scoped>\n",
              "    .dataframe tbody tr th:only-of-type {\n",
              "        vertical-align: middle;\n",
              "    }\n",
              "\n",
              "    .dataframe tbody tr th {\n",
              "        vertical-align: top;\n",
              "    }\n",
              "\n",
              "    .dataframe thead th {\n",
              "        text-align: right;\n",
              "    }\n",
              "</style>\n",
              "<table border=\"1\" class=\"dataframe\">\n",
              "  <thead>\n",
              "    <tr style=\"text-align: right;\">\n",
              "      <th></th>\n",
              "      <th>index</th>\n",
              "      <th>Likes</th>\n",
              "      <th>Comments</th>\n",
              "      <th>Views</th>\n",
              "    </tr>\n",
              "  </thead>\n",
              "  <tbody>\n",
              "    <tr>\n",
              "      <th>count</th>\n",
              "      <td>1,859</td>\n",
              "      <td>1,859</td>\n",
              "      <td>1,859</td>\n",
              "      <td>1,859</td>\n",
              "    </tr>\n",
              "    <tr>\n",
              "      <th>mean</th>\n",
              "      <td>937</td>\n",
              "      <td>169,846</td>\n",
              "      <td>7,849</td>\n",
              "      <td>11,695,674</td>\n",
              "    </tr>\n",
              "    <tr>\n",
              "      <th>std</th>\n",
              "      <td>542</td>\n",
              "      <td>797,639</td>\n",
              "      <td>37,997</td>\n",
              "      <td>109,021,050</td>\n",
              "    </tr>\n",
              "    <tr>\n",
              "      <th>min</th>\n",
              "      <td>0</td>\n",
              "      <td>0</td>\n",
              "      <td>0</td>\n",
              "      <td>25</td>\n",
              "    </tr>\n",
              "    <tr>\n",
              "      <th>25%</th>\n",
              "      <td>468</td>\n",
              "      <td>2,710</td>\n",
              "      <td>202</td>\n",
              "      <td>85,244</td>\n",
              "    </tr>\n",
              "    <tr>\n",
              "      <th>50%</th>\n",
              "      <td>936</td>\n",
              "      <td>14,899</td>\n",
              "      <td>820</td>\n",
              "      <td>589,907</td>\n",
              "    </tr>\n",
              "    <tr>\n",
              "      <th>75%</th>\n",
              "      <td>1,406</td>\n",
              "      <td>61,011</td>\n",
              "      <td>3,395</td>\n",
              "      <td>2,804,978</td>\n",
              "    </tr>\n",
              "    <tr>\n",
              "      <th>max</th>\n",
              "      <td>1,878</td>\n",
              "      <td>16,445,558</td>\n",
              "      <td>732,818</td>\n",
              "      <td>4,034,122,271</td>\n",
              "    </tr>\n",
              "  </tbody>\n",
              "</table>\n",
              "</div>\n",
              "      <button class=\"colab-df-convert\" onclick=\"convertToInteractive('df-88aa5e68-4111-4b09-8dff-2d9917302784')\"\n",
              "              title=\"Convert this dataframe to an interactive table.\"\n",
              "              style=\"display:none;\">\n",
              "        \n",
              "  <svg xmlns=\"http://www.w3.org/2000/svg\" height=\"24px\"viewBox=\"0 0 24 24\"\n",
              "       width=\"24px\">\n",
              "    <path d=\"M0 0h24v24H0V0z\" fill=\"none\"/>\n",
              "    <path d=\"M18.56 5.44l.94 2.06.94-2.06 2.06-.94-2.06-.94-.94-2.06-.94 2.06-2.06.94zm-11 1L8.5 8.5l.94-2.06 2.06-.94-2.06-.94L8.5 2.5l-.94 2.06-2.06.94zm10 10l.94 2.06.94-2.06 2.06-.94-2.06-.94-.94-2.06-.94 2.06-2.06.94z\"/><path d=\"M17.41 7.96l-1.37-1.37c-.4-.4-.92-.59-1.43-.59-.52 0-1.04.2-1.43.59L10.3 9.45l-7.72 7.72c-.78.78-.78 2.05 0 2.83L4 21.41c.39.39.9.59 1.41.59.51 0 1.02-.2 1.41-.59l7.78-7.78 2.81-2.81c.8-.78.8-2.07 0-2.86zM5.41 20L4 18.59l7.72-7.72 1.47 1.35L5.41 20z\"/>\n",
              "  </svg>\n",
              "      </button>\n",
              "      \n",
              "  <style>\n",
              "    .colab-df-container {\n",
              "      display:flex;\n",
              "      flex-wrap:wrap;\n",
              "      gap: 12px;\n",
              "    }\n",
              "\n",
              "    .colab-df-convert {\n",
              "      background-color: #E8F0FE;\n",
              "      border: none;\n",
              "      border-radius: 50%;\n",
              "      cursor: pointer;\n",
              "      display: none;\n",
              "      fill: #1967D2;\n",
              "      height: 32px;\n",
              "      padding: 0 0 0 0;\n",
              "      width: 32px;\n",
              "    }\n",
              "\n",
              "    .colab-df-convert:hover {\n",
              "      background-color: #E2EBFA;\n",
              "      box-shadow: 0px 1px 2px rgba(60, 64, 67, 0.3), 0px 1px 3px 1px rgba(60, 64, 67, 0.15);\n",
              "      fill: #174EA6;\n",
              "    }\n",
              "\n",
              "    [theme=dark] .colab-df-convert {\n",
              "      background-color: #3B4455;\n",
              "      fill: #D2E3FC;\n",
              "    }\n",
              "\n",
              "    [theme=dark] .colab-df-convert:hover {\n",
              "      background-color: #434B5C;\n",
              "      box-shadow: 0px 1px 3px 1px rgba(0, 0, 0, 0.15);\n",
              "      filter: drop-shadow(0px 1px 2px rgba(0, 0, 0, 0.3));\n",
              "      fill: #FFFFFF;\n",
              "    }\n",
              "  </style>\n",
              "\n",
              "      <script>\n",
              "        const buttonEl =\n",
              "          document.querySelector('#df-88aa5e68-4111-4b09-8dff-2d9917302784 button.colab-df-convert');\n",
              "        buttonEl.style.display =\n",
              "          google.colab.kernel.accessAllowed ? 'block' : 'none';\n",
              "\n",
              "        async function convertToInteractive(key) {\n",
              "          const element = document.querySelector('#df-88aa5e68-4111-4b09-8dff-2d9917302784');\n",
              "          const dataTable =\n",
              "            await google.colab.kernel.invokeFunction('convertToInteractive',\n",
              "                                                     [key], {});\n",
              "          if (!dataTable) return;\n",
              "\n",
              "          const docLinkHtml = 'Like what you see? Visit the ' +\n",
              "            '<a target=\"_blank\" href=https://colab.research.google.com/notebooks/data_table.ipynb>data table notebook</a>'\n",
              "            + ' to learn more about interactive tables.';\n",
              "          element.innerHTML = '';\n",
              "          dataTable['output_type'] = 'display_data';\n",
              "          await google.colab.output.renderOutput(dataTable, element);\n",
              "          const docLink = document.createElement('div');\n",
              "          docLink.innerHTML = docLinkHtml;\n",
              "          element.appendChild(docLink);\n",
              "        }\n",
              "      </script>\n",
              "    </div>\n",
              "  </div>\n",
              "  "
            ]
          },
          "metadata": {},
          "execution_count": 58
        }
      ]
    },
    {
      "cell_type": "markdown",
      "source": [
        "# 데이터 탐색과 시각화\n",
        "### 피처간의 상관관계 탐색\n",
        "\n",
        "[`float` 자료형 피처들의 상관관계 분석]\n",
        "\n",
        "* VIews(조회수)와 다른 피처의 상관은 이미 명백하므로, 0.9가 넘는 것만 상관이 있다고 가정했습니다.\n",
        "* 조회수에 **기여한 순위가 높은 요소** 분석이 목적이므로 `spearman` 상관계수를 사용했습니다."
      ],
      "metadata": {
        "id": "V7qCzjewBf-l"
      }
    },
    {
      "cell_type": "code",
      "source": [
        "cols = ['Likes', 'Comments', 'Views']\n",
        "corr = videos[cols].corr(method='pearson')\n",
        "print(corr)\n"
      ],
      "metadata": {
        "id": "CYkRP7PSB2GL",
        "colab": {
          "base_uri": "https://localhost:8080/"
        },
        "outputId": "a312297e-b090-4c49-cb22-02942721f910"
      },
      "execution_count": 285,
      "outputs": [
        {
          "output_type": "stream",
          "name": "stdout",
          "text": [
            "          Likes  Comments  Views\n",
            "Likes         1         1      1\n",
            "Comments      1         1      1\n",
            "Views         1         1      1\n"
          ]
        }
      ]
    },
    {
      "cell_type": "markdown",
      "source": [
        "[`float`자료형 피처들의 상관관계 시각화]"
      ],
      "metadata": {
        "id": "P7owamhHKFDL"
      }
    },
    {
      "cell_type": "code",
      "source": [
        "# 라이브러리 설치\n",
        "!pip install seaborn"
      ],
      "metadata": {
        "colab": {
          "base_uri": "https://localhost:8080/"
        },
        "id": "hpPRt8LxAn98",
        "outputId": "f99701ea-a272-4072-c59e-07368efdb303"
      },
      "execution_count": null,
      "outputs": [
        {
          "output_type": "stream",
          "name": "stdout",
          "text": [
            "Looking in indexes: https://pypi.org/simple, https://us-python.pkg.dev/colab-wheels/public/simple/\n",
            "Requirement already satisfied: seaborn in /usr/local/lib/python3.8/dist-packages (0.11.2)\n",
            "Requirement already satisfied: scipy>=1.0 in /usr/local/lib/python3.8/dist-packages (from seaborn) (1.7.3)\n",
            "Requirement already satisfied: numpy>=1.15 in /usr/local/lib/python3.8/dist-packages (from seaborn) (1.21.6)\n",
            "Requirement already satisfied: pandas>=0.23 in /usr/local/lib/python3.8/dist-packages (from seaborn) (1.3.5)\n",
            "Requirement already satisfied: matplotlib>=2.2 in /usr/local/lib/python3.8/dist-packages (from seaborn) (3.2.2)\n",
            "Requirement already satisfied: cycler>=0.10 in /usr/local/lib/python3.8/dist-packages (from matplotlib>=2.2->seaborn) (0.11.0)\n",
            "Requirement already satisfied: kiwisolver>=1.0.1 in /usr/local/lib/python3.8/dist-packages (from matplotlib>=2.2->seaborn) (1.4.4)\n",
            "Requirement already satisfied: python-dateutil>=2.1 in /usr/local/lib/python3.8/dist-packages (from matplotlib>=2.2->seaborn) (2.8.2)\n",
            "Requirement already satisfied: pyparsing!=2.0.4,!=2.1.2,!=2.1.6,>=2.0.1 in /usr/local/lib/python3.8/dist-packages (from matplotlib>=2.2->seaborn) (3.0.9)\n",
            "Requirement already satisfied: pytz>=2017.3 in /usr/local/lib/python3.8/dist-packages (from pandas>=0.23->seaborn) (2022.6)\n",
            "Requirement already satisfied: six>=1.5 in /usr/local/lib/python3.8/dist-packages (from python-dateutil>=2.1->matplotlib>=2.2->seaborn) (1.15.0)\n"
          ]
        }
      ]
    },
    {
      "cell_type": "code",
      "source": [
        "import seaborn as sns\n",
        "\n",
        "# corr 행렬 히트맵 시각화합니다.\n",
        "sns.set(font_scale=1)\n",
        "hm = sns.heatmap(corr.values,\n",
        "                 cbar=True,\n",
        "                 annot=True,\n",
        "                 square=True,\n",
        "                 cmap=sns.cubehelix_palette(as_cmap=True),\n",
        "                 fmt='.2f',\n",
        "                 annot_kws={'size': 15},\n",
        "                 yticklabels=cols,\n",
        "                 xticklabels=cols)\n",
        "\n",
        "plt.tight_layout()\n",
        "plt.show()\n"
      ],
      "metadata": {
        "colab": {
          "base_uri": "https://localhost:8080/",
          "height": 537
        },
        "id": "Rd-5hRUcFhC9",
        "outputId": "623f5de3-da26-4cbd-b13c-2471a3adca60"
      },
      "execution_count": null,
      "outputs": [
        {
          "output_type": "display_data",
          "data": {
            "text/plain": [
              "<Figure size 2160x720 with 2 Axes>"
            ],
            "image/png": "[encoded data removed]"
          },
          "metadata": {}
        }
      ]
    },
    {
      "cell_type": "markdown",
      "source": [
        "* 조회수(`Views`)는 댓글보다 **좋아요(`Likes`)**와 더 연관되어 있음을 알 수 있습니다.\n",
        "* 댓글(`Comments`)는 조회수보다 **좋아요(`Likes`)**와 더 연관되어 있음을 알 수 있습니다.\n",
        "* 결론 : 인기있고, 사람들에게 자주 노출되는 영상은 댓글보다 좋아요와 연관 되어있습니다."
      ],
      "metadata": {
        "id": "M6B8Q__68_Aj"
      }
    },
    {
      "cell_type": "markdown",
      "source": [
        "### 키워드별 상관관계 탐색\n",
        "[`Keyword`피처 분석]\n",
        "* 41개의 키워드로 분류한 데이터셋임을 확인했습니다."
      ],
      "metadata": {
        "id": "TOtRJTVKLxla"
      }
    },
    {
      "cell_type": "code",
      "source": [
        "print(videos['Keyword'].unique().shape)\n",
        "print()\n",
        "print(videos['Keyword'].value_counts())\n"
      ],
      "metadata": {
        "colab": {
          "base_uri": "https://localhost:8080/"
        },
        "id": "GWoj-xlcMiWr",
        "outputId": "ed383aba-378e-4f45-f17a-6bc05318db5b"
      },
      "execution_count": null,
      "outputs": [
        {
          "output_type": "stream",
          "name": "stdout",
          "text": [
            "(41,)\n",
            "\n",
            "machine learning    50\n",
            "reaction            50\n",
            "asmr                50\n",
            "trolling            50\n",
            "mrbeast             50\n",
            "cnn                 50\n",
            "history             50\n",
            "interview           50\n",
            "physics             50\n",
            "minecraft           50\n",
            "cubes               50\n",
            "crypto              50\n",
            "tutorial            50\n",
            "marvel              50\n",
            "data science        50\n",
            "game development    50\n",
            "xbox                49\n",
            "sports              49\n",
            "sat                 49\n",
            "computer science    48\n",
            "nintendo            48\n",
            "tech                48\n",
            "food                48\n",
            "how-to              48\n",
            "business            48\n",
            "chess               47\n",
            "biology             47\n",
            "music               46\n",
            "literature          46\n",
            "google              45\n",
            "movies              45\n",
            "mukbang             45\n",
            "bed                 44\n",
            "gaming              43\n",
            "apple               42\n",
            "lofi                41\n",
            "news                39\n",
            "finance             39\n",
            "animals             38\n",
            "education           24\n",
            "mathchemistry       15\n",
            "Name: Keyword, dtype: int64\n"
          ]
        }
      ]
    },
    {
      "cell_type": "markdown",
      "source": [
        "[`keyword`별 그룹화]\n",
        "* 키워드별로 그룹화한 뒤, 피처의 평균 수치를 출력했습니다."
      ],
      "metadata": {
        "id": "w3t-9FO9XvEh"
      }
    },
    {
      "cell_type": "code",
      "source": [
        "# 지수표현 -> 실수표현으로 보기\n",
        "pd.options.display.float_format = '{:.0f}'.format\n",
        "\n",
        "videos_keyword = videos.groupby(['Keyword'])\n",
        "\n",
        "# 평균 피처 값\n",
        "cols_view = ['Likes', 'Comments', 'Views']\n",
        "print(videos_keyword[cols_view].mean())\n"
      ],
      "metadata": {
        "colab": {
          "base_uri": "https://localhost:8080/"
        },
        "id": "j-1a_M9qXudq",
        "outputId": "3c484a5a-c736-4cd5-8f5d-22eb583eb3d1"
      },
      "execution_count": null,
      "outputs": [
        {
          "output_type": "stream",
          "name": "stdout",
          "text": [
            "                   Likes  Comments     Views\n",
            "Keyword                                     \n",
            "animals           760776     21872  94723961\n",
            "apple             118079      8619  10746930\n",
            "asmr               36615      1227   1706616\n",
            "bed               473682     15181  53893229\n",
            "biology            66484      4292   4121606\n",
            "business           71985      1840   7236355\n",
            "chess              36042      1472   1323294\n",
            "cnn                 8836      7575    554240\n",
            "computer science   33664      1171   1191959\n",
            "crypto              8521       547    404608\n",
            "cubes             303061      6833  15038739\n",
            "data science       17176       518    544772\n",
            "education          62292      4113   2684433\n",
            "finance            13235      1084    694223\n",
            "food               95015      5523   5252406\n",
            "game development   26179      1376    724689\n",
            "gaming             24897      1377    519645\n",
            "google            471167     22646 103364971\n",
            "history           273411     20190  15047130\n",
            "how-to            158898      6951   7809285\n",
            "interview          73327      5428   2966112\n",
            "literature         17825       880    863021\n",
            "lofi               73436      2400   3989972\n",
            "machine learning   35278      1235   1312602\n",
            "marvel            210379      9701   6614080\n",
            "mathchemistry      93849      5369   3328125\n",
            "minecraft          61180      2844   1812771\n",
            "movies             30773      3461   4788636\n",
            "mrbeast          2105914     95944  66764004\n",
            "mukbang           141407      7451  10904772\n",
            "music             314188     12289  29364893\n",
            "news                3013      1183    247492\n",
            "nintendo           44574      3695   1665042\n",
            "physics            98701      4441   3692387\n",
            "reaction           73960      3247    623172\n",
            "sat                31031      2027   1065869\n",
            "sports             90519      3828   8601205\n",
            "tech               60534      3152   1918807\n",
            "trolling           61387      3057   1420141\n",
            "tutorial          167721      7935   6761032\n",
            "xbox               38820      2870   1703981\n"
          ]
        }
      ]
    },
    {
      "cell_type": "markdown",
      "source": [
        "[평균 조회수가 높은 키워드 TOP 10]\n",
        "* 조회수별로 정렬하기(내림차순)\n",
        "* TOP 10 출력\n"
      ],
      "metadata": {
        "id": "hlSHGBdEbr0q"
      }
    },
    {
      "cell_type": "code",
      "source": [
        "sorted_mean = videos_keyword['Views'].mean().sort_values(ascending=False)\n",
        "sorted_mean.head(10)"
      ],
      "metadata": {
        "colab": {
          "base_uri": "https://localhost:8080/"
        },
        "id": "VM5g3tWlcGbI",
        "outputId": "c7d6313d-e128-4a6d-c0d9-e18f3a625e2d"
      },
      "execution_count": null,
      "outputs": [
        {
          "output_type": "execute_result",
          "data": {
            "text/plain": [
              "Keyword\n",
              "google    103364971\n",
              "animals    94723961\n",
              "mrbeast    66764004\n",
              "bed        53893229\n",
              "music      29364893\n",
              "history    15047130\n",
              "cubes      15038739\n",
              "mukbang    10904772\n",
              "apple      10746930\n",
              "sports      8601205\n",
              "Name: Views, dtype: float64"
            ]
          },
          "metadata": {},
          "execution_count": 194
        }
      ]
    },
    {
      "cell_type": "markdown",
      "source": [
        "[최고 조회수가 높은 키워드 TOP 10]\n",
        "* 최고 조회수별로 정렬하기(내림차순)\n",
        "* TOP 10 출력"
      ],
      "metadata": {
        "id": "CkMQzwRzAIT8"
      }
    },
    {
      "cell_type": "code",
      "source": [
        "sorted_max = videos_keyword['Views'].max().sort_values(ascending=False)\n",
        "sorted_max.head(10)"
      ],
      "metadata": {
        "colab": {
          "base_uri": "https://localhost:8080/"
        },
        "id": "AWDQuwL_AYlE",
        "outputId": "f46e9593-e556-4476-e2dd-4f46444fbc24"
      },
      "execution_count": null,
      "outputs": [
        {
          "output_type": "execute_result",
          "data": {
            "text/plain": [
              "Keyword\n",
              "google     4034122271\n",
              "animals    1582262997\n",
              "music       915457091\n",
              "bed         524709805\n",
              "history     434352213\n",
              "apple       425478119\n",
              "mrbeast     285526909\n",
              "business    208293677\n",
              "cubes       168546247\n",
              "sports      106014469\n",
              "Name: Views, dtype: float64"
            ]
          },
          "metadata": {},
          "execution_count": 195
        }
      ]
    },
    {
      "cell_type": "markdown",
      "source": [
        "[평균 조회수 TOP 5 키워드의 조회수 분포]"
      ],
      "metadata": {
        "id": "3RDvnedwErW-"
      }
    },
    {
      "cell_type": "code",
      "source": [
        "mask = (videos.Keyword == 'google')|(videos.Keyword == 'animals')|(videos.Keyword == 'mrbeast')|(videos.Keyword == 'bed')|(videos.Keyword == 'music')\n",
        "\n",
        "sns.violinplot(data=videos.loc[mask], x='Keyword', y='Views')\n",
        "sns.set(rc = {'figure.figsize':(30,10)})\n"
      ],
      "metadata": {
        "colab": {
          "base_uri": "https://localhost:8080/",
          "height": 244
        },
        "id": "9Hyw81SmCMrz",
        "outputId": "628e2fd4-c1bc-49d4-f4e7-b067452cbe19"
      },
      "execution_count": null,
      "outputs": [
        {
          "output_type": "display_data",
          "data": {
            "text/plain": [
              "<Figure size 2160x720 with 1 Axes>"
            ],
            "image/png": "[encoded data removed]"
          },
          "metadata": {}
        }
      ]
    },
    {
      "cell_type": "markdown",
      "source": [
        "# 인기 키워드 흐름 분석\n",
        "\n",
        "> *해당 프로젝트의 최대 목적이자 목표*\n",
        "\n",
        "\n",
        "### 시간별 인기 키워드\n",
        "[시계열 데이터로 변환 및 전처리]\n",
        "* 날짜 포멧으로 저장된 [`Published At`] 컬럼의 데이터 타입을 `object`에서 `datetime`으로 변환\n",
        "* [`Published At`]를 index로 설정\n",
        "* 월별 데이터로 데이터를 분석하기 위해 새 컬럼 추가"
      ],
      "metadata": {
        "id": "-w0H-d4h8D5S"
      }
    },
    {
      "cell_type": "code",
      "source": [
        "# to_datetime으로 Published At 피처를 시계열 피처로 변환합니다.\n",
        "videos['Published At'] = pd.to_datetime(videos['Published At'])\n",
        "\n",
        "# Published At이 index인 DataFrame을 만듭니다.\n",
        "videos_time = videos[:]\n",
        "videos_time.index = videos_time['Published At']\n",
        "videos_time.set_index('Published At', inplace=True)\n",
        "\n",
        "# 일별 데이터 월별 데이터로 구분하기\n",
        "videos_time['Month'] = videos_time.index.to_period('M')\n",
        "videos_time['Month'] = videos_time['Month'].astype('object')\n",
        "\n",
        "videos_time.head()\n"
      ],
      "metadata": {
        "colab": {
          "base_uri": "https://localhost:8080/",
          "height": 542
        },
        "id": "-pSaN4N98DtC",
        "outputId": "e09aa654-aca1-4c69-8569-7733740333ac"
      },
      "execution_count": null,
      "outputs": [
        {
          "output_type": "execute_result",
          "data": {
            "text/plain": [
              "                                                          Title     Video ID  \\\n",
              "Published At                                                                   \n",
              "2022-08-23    Apple Pay Is Killing the Physical Wallet After...  wAZZ-UWGVHI   \n",
              "2022-08-24                      The most EXPENSIVE thing I own.  b3x28s61q3c   \n",
              "2022-08-23                   My New House Gaming Setup is SICK!  4mgePWWCAmA   \n",
              "2022-08-23    Petrol Vs Liquid Nitrogen | Freezing Experimen...  kXiYSI7H2b0   \n",
              "2022-08-08                       Best Back to School Tech 2022!  ErMwWXQxHp0   \n",
              "\n",
              "             Keyword  Likes  Comments   Views    Month  \n",
              "Published At                                            \n",
              "2022-08-23      tech   3407       672  135612  2022-08  \n",
              "2022-08-24      tech  76779      4306 1758063  2022-08  \n",
              "2022-08-23      tech  63825      3338 1564007  2022-08  \n",
              "2022-08-23      tech  71566      1426  922918  2022-08  \n",
              "2022-08-08      tech  96513      5155 1855644  2022-08  "
            ],
            "text/html": [
              "\n",
              "  <div id=\"df-db78abe5-a4ea-4a3d-b058-f2a1999c54be\">\n",
              "    <div class=\"colab-df-container\">\n",
              "      <div>\n",
              "<style scoped>\n",
              "    .dataframe tbody tr th:only-of-type {\n",
              "        vertical-align: middle;\n",
              "    }\n",
              "\n",
              "    .dataframe tbody tr th {\n",
              "        vertical-align: top;\n",
              "    }\n",
              "\n",
              "    .dataframe thead th {\n",
              "        text-align: right;\n",
              "    }\n",
              "</style>\n",
              "<table border=\"1\" class=\"dataframe\">\n",
              "  <thead>\n",
              "    <tr style=\"text-align: right;\">\n",
              "      <th></th>\n",
              "      <th>Title</th>\n",
              "      <th>Video ID</th>\n",
              "      <th>Keyword</th>\n",
              "      <th>Likes</th>\n",
              "      <th>Comments</th>\n",
              "      <th>Views</th>\n",
              "      <th>Month</th>\n",
              "    </tr>\n",
              "    <tr>\n",
              "      <th>Published At</th>\n",
              "      <th></th>\n",
              "      <th></th>\n",
              "      <th></th>\n",
              "      <th></th>\n",
              "      <th></th>\n",
              "      <th></th>\n",
              "      <th></th>\n",
              "    </tr>\n",
              "  </thead>\n",
              "  <tbody>\n",
              "    <tr>\n",
              "      <th>2022-08-23</th>\n",
              "      <td>Apple Pay Is Killing the Physical Wallet After...</td>\n",
              "      <td>wAZZ-UWGVHI</td>\n",
              "      <td>tech</td>\n",
              "      <td>3407</td>\n",
              "      <td>672</td>\n",
              "      <td>135612</td>\n",
              "      <td>2022-08</td>\n",
              "    </tr>\n",
              "    <tr>\n",
              "      <th>2022-08-24</th>\n",
              "      <td>The most EXPENSIVE thing I own.</td>\n",
              "      <td>b3x28s61q3c</td>\n",
              "      <td>tech</td>\n",
              "      <td>76779</td>\n",
              "      <td>4306</td>\n",
              "      <td>1758063</td>\n",
              "      <td>2022-08</td>\n",
              "    </tr>\n",
              "    <tr>\n",
              "      <th>2022-08-23</th>\n",
              "      <td>My New House Gaming Setup is SICK!</td>\n",
              "      <td>4mgePWWCAmA</td>\n",
              "      <td>tech</td>\n",
              "      <td>63825</td>\n",
              "      <td>3338</td>\n",
              "      <td>1564007</td>\n",
              "      <td>2022-08</td>\n",
              "    </tr>\n",
              "    <tr>\n",
              "      <th>2022-08-23</th>\n",
              "      <td>Petrol Vs Liquid Nitrogen | Freezing Experimen...</td>\n",
              "      <td>kXiYSI7H2b0</td>\n",
              "      <td>tech</td>\n",
              "      <td>71566</td>\n",
              "      <td>1426</td>\n",
              "      <td>922918</td>\n",
              "      <td>2022-08</td>\n",
              "    </tr>\n",
              "    <tr>\n",
              "      <th>2022-08-08</th>\n",
              "      <td>Best Back to School Tech 2022!</td>\n",
              "      <td>ErMwWXQxHp0</td>\n",
              "      <td>tech</td>\n",
              "      <td>96513</td>\n",
              "      <td>5155</td>\n",
              "      <td>1855644</td>\n",
              "      <td>2022-08</td>\n",
              "    </tr>\n",
              "  </tbody>\n",
              "</table>\n",
              "</div>\n",
              "      <button class=\"colab-df-convert\" onclick=\"convertToInteractive('df-db78abe5-a4ea-4a3d-b058-f2a1999c54be')\"\n",
              "              title=\"Convert this dataframe to an interactive table.\"\n",
              "              style=\"display:none;\">\n",
              "        \n",
              "  <svg xmlns=\"http://www.w3.org/2000/svg\" height=\"24px\"viewBox=\"0 0 24 24\"\n",
              "       width=\"24px\">\n",
              "    <path d=\"M0 0h24v24H0V0z\" fill=\"none\"/>\n",
              "    <path d=\"M18.56 5.44l.94 2.06.94-2.06 2.06-.94-2.06-.94-.94-2.06-.94 2.06-2.06.94zm-11 1L8.5 8.5l.94-2.06 2.06-.94-2.06-.94L8.5 2.5l-.94 2.06-2.06.94zm10 10l.94 2.06.94-2.06 2.06-.94-2.06-.94-.94-2.06-.94 2.06-2.06.94z\"/><path d=\"M17.41 7.96l-1.37-1.37c-.4-.4-.92-.59-1.43-.59-.52 0-1.04.2-1.43.59L10.3 9.45l-7.72 7.72c-.78.78-.78 2.05 0 2.83L4 21.41c.39.39.9.59 1.41.59.51 0 1.02-.2 1.41-.59l7.78-7.78 2.81-2.81c.8-.78.8-2.07 0-2.86zM5.41 20L4 18.59l7.72-7.72 1.47 1.35L5.41 20z\"/>\n",
              "  </svg>\n",
              "      </button>\n",
              "      \n",
              "  <style>\n",
              "    .colab-df-container {\n",
              "      display:flex;\n",
              "      flex-wrap:wrap;\n",
              "      gap: 12px;\n",
              "    }\n",
              "\n",
              "    .colab-df-convert {\n",
              "      background-color: #E8F0FE;\n",
              "      border: none;\n",
              "      border-radius: 50%;\n",
              "      cursor: pointer;\n",
              "      display: none;\n",
              "      fill: #1967D2;\n",
              "      height: 32px;\n",
              "      padding: 0 0 0 0;\n",
              "      width: 32px;\n",
              "    }\n",
              "\n",
              "    .colab-df-convert:hover {\n",
              "      background-color: #E2EBFA;\n",
              "      box-shadow: 0px 1px 2px rgba(60, 64, 67, 0.3), 0px 1px 3px 1px rgba(60, 64, 67, 0.15);\n",
              "      fill: #174EA6;\n",
              "    }\n",
              "\n",
              "    [theme=dark] .colab-df-convert {\n",
              "      background-color: #3B4455;\n",
              "      fill: #D2E3FC;\n",
              "    }\n",
              "\n",
              "    [theme=dark] .colab-df-convert:hover {\n",
              "      background-color: #434B5C;\n",
              "      box-shadow: 0px 1px 3px 1px rgba(0, 0, 0, 0.15);\n",
              "      filter: drop-shadow(0px 1px 2px rgba(0, 0, 0, 0.3));\n",
              "      fill: #FFFFFF;\n",
              "    }\n",
              "  </style>\n",
              "\n",
              "      <script>\n",
              "        const buttonEl =\n",
              "          document.querySelector('#df-db78abe5-a4ea-4a3d-b058-f2a1999c54be button.colab-df-convert');\n",
              "        buttonEl.style.display =\n",
              "          google.colab.kernel.accessAllowed ? 'block' : 'none';\n",
              "\n",
              "        async function convertToInteractive(key) {\n",
              "          const element = document.querySelector('#df-db78abe5-a4ea-4a3d-b058-f2a1999c54be');\n",
              "          const dataTable =\n",
              "            await google.colab.kernel.invokeFunction('convertToInteractive',\n",
              "                                                     [key], {});\n",
              "          if (!dataTable) return;\n",
              "\n",
              "          const docLinkHtml = 'Like what you see? Visit the ' +\n",
              "            '<a target=\"_blank\" href=https://colab.research.google.com/notebooks/data_table.ipynb>data table notebook</a>'\n",
              "            + ' to learn more about interactive tables.';\n",
              "          element.innerHTML = '';\n",
              "          dataTable['output_type'] = 'display_data';\n",
              "          await google.colab.output.renderOutput(dataTable, element);\n",
              "          const docLink = document.createElement('div');\n",
              "          docLink.innerHTML = docLinkHtml;\n",
              "          element.appendChild(docLink);\n",
              "        }\n",
              "      </script>\n",
              "    </div>\n",
              "  </div>\n",
              "  "
            ]
          },
          "metadata": {},
          "execution_count": 203
        }
      ]
    },
    {
      "cell_type": "markdown",
      "source": [
        "[키워드별 조회수 흐름]\n",
        "\n",
        "\n",
        "> 여기서부터 추가 예정입니다 :)\n",
        "\n"
      ],
      "metadata": {
        "id": "SZw6esEYP1hQ"
      }
    },
    {
      "cell_type": "code",
      "source": [
        "import plotly.express as px\n",
        "\n",
        "month_keyword = videos_time.groupby(['Keyword', 'Month'])\n",
        "print(month_keyword['Views'].mean())\n",
        "\n",
        "# fig = px.bar(month_keyword, x='Month', y='Views', animation_frame='Keyword')\n",
        "# fig.update_layout(width=900,height=650)\n",
        "# fig.show()\n",
        "# fig.write_html('/content/keyword_views.html')"
      ],
      "metadata": {
        "colab": {
          "base_uri": "https://localhost:8080/"
        },
        "id": "4qDzfhb9OXcH",
        "outputId": "67a68e41-5caf-4ce4-db19-80b27a77404c"
      },
      "execution_count": null,
      "outputs": [
        {
          "output_type": "stream",
          "name": "stdout",
          "text": [
            "Keyword  Month  \n",
            "animals  2009-07    153478497\n",
            "         2010-03     38478475\n",
            "         2010-05      9253680\n",
            "         2013-06   1582262997\n",
            "         2014-08    193685278\n",
            "                      ...    \n",
            "xbox     2022-03       179180\n",
            "         2022-04       607849\n",
            "         2022-06      2827948\n",
            "         2022-07      1393296\n",
            "         2022-08        48354\n",
            "Name: Views, Length: 758, dtype: float64\n"
          ]
        }
      ]
    },
    {
      "cell_type": "markdown",
      "source": [
        "[평균 조회수 최고 키워드 흐름]\n",
        "* 키워드별 그룹화"
      ],
      "metadata": {
        "id": "gWugSwhCW7CT"
      }
    },
    {
      "cell_type": "code",
      "source": [
        "videos_keyword = videos.groupby(['Keyword'])\n",
        "# 키워드 값들을 모아 둔 배열\n",
        "kewords = videos['Keyword'].unique()\n",
        "\n",
        "kewords\n",
        "print(kewords)"
      ],
      "metadata": {
        "colab": {
          "base_uri": "https://localhost:8080/"
        },
        "id": "8E5KQ2QBYFD6",
        "outputId": "ab57ac6d-a28f-420d-e02d-ff4ceef89c85"
      },
      "execution_count": null,
      "outputs": [
        {
          "output_type": "stream",
          "name": "stdout",
          "text": [
            "['tech' 'news' 'gaming' 'sports' 'how-to' 'business' 'tutorial' 'finance'\n",
            " 'crypto' 'cubes' 'chess' 'apple' 'google' 'interview' 'history'\n",
            " 'literature' 'bed' 'trolling' 'asmr' 'music' 'food' 'mukbang' 'reaction'\n",
            " 'lofi' 'animals' 'education' 'minecraft' 'sat' 'mrbeast' 'cnn'\n",
            " 'mathchemistry' 'biology' 'physics' 'computer science' 'nintendo' 'xbox'\n",
            " 'marvel' 'movies' 'data science' 'game development' 'machine learning']\n"
          ]
        }
      ]
    }
  ]
}